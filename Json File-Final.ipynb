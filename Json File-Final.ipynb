{
 "cells": [
  {
   "cell_type": "markdown",
   "metadata": {},
   "source": [
    "### Json Train data"
   ]
  },
  {
   "cell_type": "code",
   "execution_count": 58,
   "metadata": {},
   "outputs": [],
   "source": [
    "import pandas as pd\n",
    "import numpy as np\n",
    "import json\n",
    "import emoji\n",
    "import nltk\n",
    "import html.parser as htmlparser\n",
    "import warnings # Ignores any warning\n",
    "warnings.filterwarnings(\"ignore\")\n",
    "import re"
   ]
  },
  {
   "cell_type": "code",
   "execution_count": 3,
   "metadata": {},
   "outputs": [
    {
     "name": "stderr",
     "output_type": "stream",
     "text": [
      "[nltk_data] Downloading package stopwords to\n",
      "[nltk_data]     /Users/shreya1996/nltk_data...\n",
      "[nltk_data]   Package stopwords is already up-to-date!\n"
     ]
    },
    {
     "data": {
      "text/plain": [
       "True"
      ]
     },
     "execution_count": 3,
     "metadata": {},
     "output_type": "execute_result"
    }
   ],
   "source": [
    "nltk.download('stopwords')"
   ]
  },
  {
   "cell_type": "code",
   "execution_count": 4,
   "metadata": {},
   "outputs": [],
   "source": [
    "from nltk.corpus import stopwords"
   ]
  },
  {
   "cell_type": "code",
   "execution_count": 3,
   "metadata": {},
   "outputs": [],
   "source": [
    "jdata = pd.read_json(\"train_data-(2).json\")"
   ]
  },
  {
   "cell_type": "code",
   "execution_count": 5,
   "metadata": {},
   "outputs": [],
   "source": [
    "x=[]\n",
    "y=[]\n",
    "z=[]\n",
    "a=[]\n",
    "for i in jdata.records:\n",
    "    x.append(i['stocktwit_tweet'])\n",
    "    y.append(i['sentiment_score'])\n",
    "    z.append(pd.to_datetime(i['timestamp']))\n",
    "    a.append(i['ticker'])"
   ]
  },
  {
   "cell_type": "code",
   "execution_count": 6,
   "metadata": {},
   "outputs": [],
   "source": [
    "json_data = pd.DataFrame({'Tweet':x,\n",
    "                          'Sentiment_score':y,\n",
    "                          'Date':z,\n",
    "                          'Stock':a})"
   ]
  },
  {
   "cell_type": "code",
   "execution_count": 9,
   "metadata": {},
   "outputs": [],
   "source": [
    "json_data.to_csv('jdata.csv',index=\"False\")"
   ]
  },
  {
   "cell_type": "code",
   "execution_count": 29,
   "metadata": {},
   "outputs": [],
   "source": [
    "jf = pd.read_csv('jdata.csv')"
   ]
  },
  {
   "cell_type": "code",
   "execution_count": 30,
   "metadata": {},
   "outputs": [],
   "source": [
    "jf.drop(jf.columns[0], axis = 1,inplace=True) "
   ]
  },
  {
   "cell_type": "code",
   "execution_count": 31,
   "metadata": {},
   "outputs": [
    {
     "data": {
      "text/html": [
       "<div>\n",
       "<style scoped>\n",
       "    .dataframe tbody tr th:only-of-type {\n",
       "        vertical-align: middle;\n",
       "    }\n",
       "\n",
       "    .dataframe tbody tr th {\n",
       "        vertical-align: top;\n",
       "    }\n",
       "\n",
       "    .dataframe thead th {\n",
       "        text-align: right;\n",
       "    }\n",
       "</style>\n",
       "<table border=\"1\" class=\"dataframe\">\n",
       "  <thead>\n",
       "    <tr style=\"text-align: right;\">\n",
       "      <th></th>\n",
       "      <th>Tweet</th>\n",
       "      <th>Sentiment_score</th>\n",
       "      <th>Date</th>\n",
       "      <th>Stock</th>\n",
       "    </tr>\n",
       "  </thead>\n",
       "  <tbody>\n",
       "    <tr>\n",
       "      <th>0</th>\n",
       "      <td>$AMD going up but hesitating however chart is ...</td>\n",
       "      <td>3</td>\n",
       "      <td>2018-09-19 18:38:28+00:00</td>\n",
       "      <td>$AMD</td>\n",
       "    </tr>\n",
       "    <tr>\n",
       "      <th>1</th>\n",
       "      <td>@inforlong @MariaGascon Despite\\nChina trade w...</td>\n",
       "      <td>3</td>\n",
       "      <td>2018-10-09 03:51:06+00:00</td>\n",
       "      <td>$CAT</td>\n",
       "    </tr>\n",
       "    <tr>\n",
       "      <th>2</th>\n",
       "      <td>$AVGO WTF?</td>\n",
       "      <td>2</td>\n",
       "      <td>2018-07-12 13:35:32+00:00</td>\n",
       "      <td>$AVGO</td>\n",
       "    </tr>\n",
       "    <tr>\n",
       "      <th>3</th>\n",
       "      <td>$PH\\n New Insider Filing On: \\n MULLER KLAUS P...</td>\n",
       "      <td>2</td>\n",
       "      <td>2018-07-19 03:32:50+00:00</td>\n",
       "      <td>$PH</td>\n",
       "    </tr>\n",
       "    <tr>\n",
       "      <th>4</th>\n",
       "      <td>$FB if it bounces tommorrow do the right thing...</td>\n",
       "      <td>3</td>\n",
       "      <td>2018-08-23 19:07:54+00:00</td>\n",
       "      <td>$FB</td>\n",
       "    </tr>\n",
       "  </tbody>\n",
       "</table>\n",
       "</div>"
      ],
      "text/plain": [
       "                                               Tweet  Sentiment_score  \\\n",
       "0  $AMD going up but hesitating however chart is ...                3   \n",
       "1  @inforlong @MariaGascon Despite\\nChina trade w...                3   \n",
       "2                                         $AVGO WTF?                2   \n",
       "3  $PH\\n New Insider Filing On: \\n MULLER KLAUS P...                2   \n",
       "4  $FB if it bounces tommorrow do the right thing...                3   \n",
       "\n",
       "                        Date  Stock  \n",
       "0  2018-09-19 18:38:28+00:00   $AMD  \n",
       "1  2018-10-09 03:51:06+00:00   $CAT  \n",
       "2  2018-07-12 13:35:32+00:00  $AVGO  \n",
       "3  2018-07-19 03:32:50+00:00    $PH  \n",
       "4  2018-08-23 19:07:54+00:00    $FB  "
      ]
     },
     "execution_count": 31,
     "metadata": {},
     "output_type": "execute_result"
    }
   ],
   "source": [
    "jf.head()"
   ]
  },
  {
   "cell_type": "code",
   "execution_count": 32,
   "metadata": {},
   "outputs": [],
   "source": [
    "#changing the date format\n",
    "date = jf['Date']\n",
    "a, b = zip(*(s.split(\" \") for s in date))\n",
    "jf['date'] = a\n",
    "jf['time'] = b\n",
    "jf.drop(['Date'],axis=1,inplace=True)"
   ]
  },
  {
   "cell_type": "code",
   "execution_count": 33,
   "metadata": {},
   "outputs": [],
   "source": [
    "jf['Date'] = pd.to_datetime(jf['date']).dt.day\n",
    "jf['Month'] = pd.to_datetime(jf['date']).dt.month\n",
    "jf['Year'] = pd.to_datetime(jf['date']).dt.year\n",
    "jf['Weekday'] = pd.to_datetime(jf['date']).dt.weekday"
   ]
  },
  {
   "cell_type": "markdown",
   "metadata": {},
   "source": [
    "##### Basic cleaning"
   ]
  },
  {
   "cell_type": "code",
   "execution_count": 34,
   "metadata": {},
   "outputs": [],
   "source": [
    "#parsing the html part\n",
    "parser = htmlparser.HTMLParser()\n",
    "jf['Tweet']= jf['Tweet'].apply(lambda x: parser.unescape(x))"
   ]
  },
  {
   "cell_type": "code",
   "execution_count": 35,
   "metadata": {},
   "outputs": [],
   "source": [
    "#delete the url from the tweet text\n",
    "jf['Tweet'] = jf['Tweet'].apply(lambda x: ' '.join(re.sub(r\"http\\S+\", \"\", x)))"
   ]
  },
  {
   "cell_type": "code",
   "execution_count": 36,
   "metadata": {},
   "outputs": [],
   "source": [
    "#remove \\n from the tweets\n",
    "jf['Tweet']=jf['Tweet'].str.replace(\"\\\\n\", \" \",regex=True)"
   ]
  },
  {
   "cell_type": "code",
   "execution_count": 37,
   "metadata": {},
   "outputs": [],
   "source": [
    "#make double $ as single $\n",
    "jf['Stock'] = jf['Stock'].str.replace('$$','$',regex=False)"
   ]
  },
  {
   "cell_type": "code",
   "execution_count": 38,
   "metadata": {},
   "outputs": [],
   "source": [
    "#removing $ from stock\n",
    "jf['Stock'] = jf['Stock'].str.replace('$','',regex=False)"
   ]
  },
  {
   "cell_type": "code",
   "execution_count": 39,
   "metadata": {},
   "outputs": [],
   "source": [
    "#uppercase the stock \n",
    "jf['Stock']=jf['Stock'].str.upper()"
   ]
  },
  {
   "cell_type": "code",
   "execution_count": 40,
   "metadata": {},
   "outputs": [],
   "source": [
    "#lowercase the Tweet\n",
    "jf['Tweet']=jf['Tweet'].str.lower()"
   ]
  },
  {
   "cell_type": "code",
   "execution_count": 41,
   "metadata": {},
   "outputs": [
    {
     "data": {
      "text/html": [
       "<div>\n",
       "<style scoped>\n",
       "    .dataframe tbody tr th:only-of-type {\n",
       "        vertical-align: middle;\n",
       "    }\n",
       "\n",
       "    .dataframe tbody tr th {\n",
       "        vertical-align: top;\n",
       "    }\n",
       "\n",
       "    .dataframe thead th {\n",
       "        text-align: right;\n",
       "    }\n",
       "</style>\n",
       "<table border=\"1\" class=\"dataframe\">\n",
       "  <thead>\n",
       "    <tr style=\"text-align: right;\">\n",
       "      <th></th>\n",
       "      <th>Tweet</th>\n",
       "      <th>Sentiment_score</th>\n",
       "      <th>Stock</th>\n",
       "      <th>date</th>\n",
       "      <th>time</th>\n",
       "      <th>Date</th>\n",
       "      <th>Month</th>\n",
       "      <th>Year</th>\n",
       "      <th>Weekday</th>\n",
       "    </tr>\n",
       "  </thead>\n",
       "  <tbody>\n",
       "    <tr>\n",
       "      <th>0</th>\n",
       "      <td>$amd going up but hesitating however chart is ...</td>\n",
       "      <td>3</td>\n",
       "      <td>AMD</td>\n",
       "      <td>2018-09-19</td>\n",
       "      <td>18:38:28+00:00</td>\n",
       "      <td>19</td>\n",
       "      <td>9</td>\n",
       "      <td>2018</td>\n",
       "      <td>2</td>\n",
       "    </tr>\n",
       "    <tr>\n",
       "      <th>1</th>\n",
       "      <td>@inforlong @mariagascon despite china trade wa...</td>\n",
       "      <td>3</td>\n",
       "      <td>CAT</td>\n",
       "      <td>2018-10-09</td>\n",
       "      <td>03:51:06+00:00</td>\n",
       "      <td>9</td>\n",
       "      <td>10</td>\n",
       "      <td>2018</td>\n",
       "      <td>1</td>\n",
       "    </tr>\n",
       "    <tr>\n",
       "      <th>2</th>\n",
       "      <td>$avgo wtf?</td>\n",
       "      <td>2</td>\n",
       "      <td>AVGO</td>\n",
       "      <td>2018-07-12</td>\n",
       "      <td>13:35:32+00:00</td>\n",
       "      <td>12</td>\n",
       "      <td>7</td>\n",
       "      <td>2018</td>\n",
       "      <td>3</td>\n",
       "    </tr>\n",
       "    <tr>\n",
       "      <th>3</th>\n",
       "      <td>$ph  new insider filing on:   muller klaus pet...</td>\n",
       "      <td>2</td>\n",
       "      <td>PH</td>\n",
       "      <td>2018-07-19</td>\n",
       "      <td>03:32:50+00:00</td>\n",
       "      <td>19</td>\n",
       "      <td>7</td>\n",
       "      <td>2018</td>\n",
       "      <td>3</td>\n",
       "    </tr>\n",
       "    <tr>\n",
       "      <th>4</th>\n",
       "      <td>$fb if it bounces tommorrow do the right thing...</td>\n",
       "      <td>3</td>\n",
       "      <td>FB</td>\n",
       "      <td>2018-08-23</td>\n",
       "      <td>19:07:54+00:00</td>\n",
       "      <td>23</td>\n",
       "      <td>8</td>\n",
       "      <td>2018</td>\n",
       "      <td>3</td>\n",
       "    </tr>\n",
       "  </tbody>\n",
       "</table>\n",
       "</div>"
      ],
      "text/plain": [
       "                                               Tweet  Sentiment_score Stock  \\\n",
       "0  $amd going up but hesitating however chart is ...                3   AMD   \n",
       "1  @inforlong @mariagascon despite china trade wa...                3   CAT   \n",
       "2                                         $avgo wtf?                2  AVGO   \n",
       "3  $ph  new insider filing on:   muller klaus pet...                2    PH   \n",
       "4  $fb if it bounces tommorrow do the right thing...                3    FB   \n",
       "\n",
       "         date            time  Date  Month  Year  Weekday  \n",
       "0  2018-09-19  18:38:28+00:00    19      9  2018        2  \n",
       "1  2018-10-09  03:51:06+00:00     9     10  2018        1  \n",
       "2  2018-07-12  13:35:32+00:00    12      7  2018        3  \n",
       "3  2018-07-19  03:32:50+00:00    19      7  2018        3  \n",
       "4  2018-08-23  19:07:54+00:00    23      8  2018        3  "
      ]
     },
     "execution_count": 41,
     "metadata": {},
     "output_type": "execute_result"
    }
   ],
   "source": [
    "jf.head()#displaying after converting to lowercase"
   ]
  },
  {
   "cell_type": "markdown",
   "metadata": {},
   "source": [
    "##### Basic Pre-processing on json train data"
   ]
  },
  {
   "cell_type": "code",
   "execution_count": 42,
   "metadata": {},
   "outputs": [
    {
     "data": {
      "text/plain": [
       "0    $amd going up but hesitating however chart is ...\n",
       "1        despite china trade war $cat held very well 👍\n",
       "2                                           $avgo wtf?\n",
       "3    $ph new insider filing on: muller klaus peter ...\n",
       "4    $fb if it bounces tommorrow do the right thing...\n",
       "Name: Tweet, dtype: object"
      ]
     },
     "execution_count": 42,
     "metadata": {},
     "output_type": "execute_result"
    }
   ],
   "source": [
    "#remove user names\n",
    "jf['Tweet'] = jf['Tweet'].apply(lambda x: ' '.join(re.sub(\"(@[A-Za-z0-9]+)\", \" \", x).split()))\n",
    "jf['Tweet'].head()"
   ]
  },
  {
   "cell_type": "code",
   "execution_count": 43,
   "metadata": {},
   "outputs": [
    {
     "data": {
      "text/plain": [
       "0    $amd going up but hesitating however chart is ...\n",
       "1        despite china trade war $cat held very well 👍\n",
       "2                                           $avgo wtf?\n",
       "3    $ph new insider filing on: muller klaus peter ...\n",
       "4    $fb if it bounces tommorrow do the right thing...\n",
       "Name: Tweet, dtype: object"
      ]
     },
     "execution_count": 43,
     "metadata": {},
     "output_type": "execute_result"
    }
   ],
   "source": [
    "#remove numerics\n",
    "jf['Tweet'] = jf['Tweet'].apply(lambda x: \" \".join(re.sub(\"[0-9]\", \" \", x).split()))\n",
    "jf['Tweet'].head()"
   ]
  },
  {
   "cell_type": "code",
   "execution_count": 44,
   "metadata": {},
   "outputs": [
    {
     "data": {
      "text/plain": [
       "0    $amd going up but hesitating however chart is ...\n",
       "1    despite china trade war $cat held very well  t...\n",
       "2                                           $avgo wtf?\n",
       "3    $ph new insider filing on  muller klaus peter ...\n",
       "4    $fb if it bounces tommorrow do the right thing...\n",
       "Name: Tweet, dtype: object"
      ]
     },
     "execution_count": 44,
     "metadata": {},
     "output_type": "execute_result"
    }
   ],
   "source": [
    "#translating emoji into text\n",
    "jf['Tweet']=jf['Tweet'].apply(lambda x: emoji.demojize(x))\n",
    "# the emoji gets converted into word and stored like :thumbs_up:\n",
    "jf['Tweet']=jf['Tweet'].str.replace(\":\", \" \",regex=False) # so we remove the : sign\n",
    "jf['Tweet']=jf['Tweet'].str.replace(\"_\", \" \",regex=False) # and the _ sign\n",
    "jf['Tweet'].head()"
   ]
  },
  {
   "cell_type": "code",
   "execution_count": 45,
   "metadata": {},
   "outputs": [
    {
     "data": {
      "text/plain": [
       "0     amd going up but hesitating however chart is ...\n",
       "1    despite china trade war  cat held very well  t...\n",
       "2                                            avgo wtf \n",
       "3     ph new insider filing on  muller klaus peter ...\n",
       "4     fb if it bounces tommorrow do the right thing...\n",
       "Name: Tweet, dtype: object"
      ]
     },
     "execution_count": 45,
     "metadata": {},
     "output_type": "execute_result"
    }
   ],
   "source": [
    "#removing punctuations\n",
    "jf['Tweet'] = jf['Tweet'].str.replace(\"[^a-zA-Z]\", \" \")\n",
    "jf['Tweet'].head()"
   ]
  },
  {
   "cell_type": "code",
   "execution_count": 46,
   "metadata": {},
   "outputs": [],
   "source": [
    "#remove repeated letters in a word\n",
    "jf['Tweet'] = jf['Tweet'].apply(lambda x : re.sub(r'(.)\\1{1,}', r'\\1\\1', x))"
   ]
  },
  {
   "cell_type": "code",
   "execution_count": 47,
   "metadata": {},
   "outputs": [
    {
     "data": {
      "text/plain": [
       "0    amd going hesitating however chart stable goin...\n",
       "1         despite china trade war cat held well thumbs\n",
       "2                                             avgo wtf\n",
       "3    ph new insider filing muller klaus peter trans...\n",
       "4                fb bounces tommorrow right thing gtfo\n",
       "Name: Tweet, dtype: object"
      ]
     },
     "execution_count": 47,
     "metadata": {},
     "output_type": "execute_result"
    }
   ],
   "source": [
    "#remove stop words\n",
    "stop = stopwords.words('english')\n",
    "jf['Tweet'] = jf['Tweet'].apply(lambda x: \" \".join(x for x in x.split() if x not in stop))\n",
    "jf['Tweet'].head()"
   ]
  },
  {
   "cell_type": "code",
   "execution_count": 48,
   "metadata": {},
   "outputs": [],
   "source": [
    "#stemming words\n",
    "from nltk.stem import PorterStemmer\n",
    "st = PorterStemmer()\n",
    "jf['Tweet'] = jf['Tweet'].apply(lambda x: \" \".join([st.stem(word) for word in x.split()]))"
   ]
  },
  {
   "cell_type": "code",
   "execution_count": 49,
   "metadata": {},
   "outputs": [
    {
     "data": {
      "text/plain": [
       "503"
      ]
     },
     "execution_count": 49,
     "metadata": {},
     "output_type": "execute_result"
    }
   ],
   "source": [
    "(jf['Tweet'].values == '').sum() "
   ]
  },
  {
   "cell_type": "code",
   "execution_count": 50,
   "metadata": {},
   "outputs": [],
   "source": [
    "jf =jf[jf['Tweet']!='']"
   ]
  },
  {
   "cell_type": "code",
   "execution_count": 51,
   "metadata": {},
   "outputs": [
    {
     "data": {
      "text/plain": [
       "0             amd go hesit howev chart stabl go upward\n",
       "1           despit china trade war cat held well thumb\n",
       "2                                             avgo wtf\n",
       "3    ph new insid file muller klau peter transact code\n",
       "4                  fb bounc tommorrow right thing gtfo\n",
       "Name: Tweet, dtype: object"
      ]
     },
     "execution_count": 51,
     "metadata": {},
     "output_type": "execute_result"
    }
   ],
   "source": [
    "jf['Tweet'].head()"
   ]
  },
  {
   "cell_type": "code",
   "execution_count": 34,
   "metadata": {},
   "outputs": [
    {
     "data": {
      "text/html": [
       "<div>\n",
       "<style scoped>\n",
       "    .dataframe tbody tr th:only-of-type {\n",
       "        vertical-align: middle;\n",
       "    }\n",
       "\n",
       "    .dataframe tbody tr th {\n",
       "        vertical-align: top;\n",
       "    }\n",
       "\n",
       "    .dataframe thead th {\n",
       "        text-align: right;\n",
       "    }\n",
       "</style>\n",
       "<table border=\"1\" class=\"dataframe\">\n",
       "  <thead>\n",
       "    <tr style=\"text-align: right;\">\n",
       "      <th></th>\n",
       "      <th>Tweet</th>\n",
       "      <th>Sentiment_score</th>\n",
       "      <th>Stock</th>\n",
       "      <th>date</th>\n",
       "      <th>time</th>\n",
       "      <th>Date</th>\n",
       "      <th>Month</th>\n",
       "      <th>Year</th>\n",
       "      <th>Weekday</th>\n",
       "    </tr>\n",
       "  </thead>\n",
       "  <tbody>\n",
       "    <tr>\n",
       "      <th>0</th>\n",
       "      <td>amd go hesit howev chart stabl go upward</td>\n",
       "      <td>3</td>\n",
       "      <td>AMD</td>\n",
       "      <td>2018-09-19</td>\n",
       "      <td>18:38:28+00:00</td>\n",
       "      <td>19</td>\n",
       "      <td>9</td>\n",
       "      <td>2018</td>\n",
       "      <td>2</td>\n",
       "    </tr>\n",
       "    <tr>\n",
       "      <th>1</th>\n",
       "      <td>despit china trade war cat held well thumb</td>\n",
       "      <td>3</td>\n",
       "      <td>CAT</td>\n",
       "      <td>2018-10-09</td>\n",
       "      <td>03:51:06+00:00</td>\n",
       "      <td>9</td>\n",
       "      <td>10</td>\n",
       "      <td>2018</td>\n",
       "      <td>1</td>\n",
       "    </tr>\n",
       "    <tr>\n",
       "      <th>2</th>\n",
       "      <td>avgo wtf</td>\n",
       "      <td>2</td>\n",
       "      <td>AVGO</td>\n",
       "      <td>2018-07-12</td>\n",
       "      <td>13:35:32+00:00</td>\n",
       "      <td>12</td>\n",
       "      <td>7</td>\n",
       "      <td>2018</td>\n",
       "      <td>3</td>\n",
       "    </tr>\n",
       "    <tr>\n",
       "      <th>3</th>\n",
       "      <td>ph new insid file muller klau peter transact code</td>\n",
       "      <td>2</td>\n",
       "      <td>PH</td>\n",
       "      <td>2018-07-19</td>\n",
       "      <td>03:32:50+00:00</td>\n",
       "      <td>19</td>\n",
       "      <td>7</td>\n",
       "      <td>2018</td>\n",
       "      <td>3</td>\n",
       "    </tr>\n",
       "    <tr>\n",
       "      <th>4</th>\n",
       "      <td>fb bounc tommorrow right thing gtfo</td>\n",
       "      <td>3</td>\n",
       "      <td>FB</td>\n",
       "      <td>2018-08-23</td>\n",
       "      <td>19:07:54+00:00</td>\n",
       "      <td>23</td>\n",
       "      <td>8</td>\n",
       "      <td>2018</td>\n",
       "      <td>3</td>\n",
       "    </tr>\n",
       "  </tbody>\n",
       "</table>\n",
       "</div>"
      ],
      "text/plain": [
       "                                               Tweet  Sentiment_score Stock  \\\n",
       "0           amd go hesit howev chart stabl go upward                3   AMD   \n",
       "1         despit china trade war cat held well thumb                3   CAT   \n",
       "2                                           avgo wtf                2  AVGO   \n",
       "3  ph new insid file muller klau peter transact code                2    PH   \n",
       "4                fb bounc tommorrow right thing gtfo                3    FB   \n",
       "\n",
       "         date            time  Date  Month  Year  Weekday  \n",
       "0  2018-09-19  18:38:28+00:00    19      9  2018        2  \n",
       "1  2018-10-09  03:51:06+00:00     9     10  2018        1  \n",
       "2  2018-07-12  13:35:32+00:00    12      7  2018        3  \n",
       "3  2018-07-19  03:32:50+00:00    19      7  2018        3  \n",
       "4  2018-08-23  19:07:54+00:00    23      8  2018        3  "
      ]
     },
     "execution_count": 34,
     "metadata": {},
     "output_type": "execute_result"
    }
   ],
   "source": [
    "jf.head()"
   ]
  },
  {
   "cell_type": "code",
   "execution_count": 35,
   "metadata": {},
   "outputs": [],
   "source": [
    "jf =jf[jf['Tweet']!='']"
   ]
  },
  {
   "cell_type": "code",
   "execution_count": 36,
   "metadata": {},
   "outputs": [
    {
     "data": {
      "text/plain": [
       "0"
      ]
     },
     "execution_count": 36,
     "metadata": {},
     "output_type": "execute_result"
    }
   ],
   "source": [
    "(jf['Tweet'].values == '').sum() "
   ]
  },
  {
   "cell_type": "code",
   "execution_count": 102,
   "metadata": {},
   "outputs": [],
   "source": [
    "jf.to_csv(\"Cleaned_Json_TrainData.csv\",index=False) #saved intoa csv for further use directly"
   ]
  },
  {
   "cell_type": "code",
   "execution_count": 37,
   "metadata": {},
   "outputs": [],
   "source": [
    "fin = pd.read_csv(\"Cleaned_Json_TrainData.csv\")"
   ]
  },
  {
   "cell_type": "code",
   "execution_count": 38,
   "metadata": {},
   "outputs": [
    {
     "data": {
      "text/html": [
       "<div>\n",
       "<style scoped>\n",
       "    .dataframe tbody tr th:only-of-type {\n",
       "        vertical-align: middle;\n",
       "    }\n",
       "\n",
       "    .dataframe tbody tr th {\n",
       "        vertical-align: top;\n",
       "    }\n",
       "\n",
       "    .dataframe thead th {\n",
       "        text-align: right;\n",
       "    }\n",
       "</style>\n",
       "<table border=\"1\" class=\"dataframe\">\n",
       "  <thead>\n",
       "    <tr style=\"text-align: right;\">\n",
       "      <th></th>\n",
       "      <th>Tweet</th>\n",
       "      <th>Sentiment_score</th>\n",
       "      <th>Stock</th>\n",
       "      <th>date</th>\n",
       "      <th>time</th>\n",
       "      <th>Date</th>\n",
       "      <th>Month</th>\n",
       "      <th>Year</th>\n",
       "      <th>Weekday</th>\n",
       "      <th>word_count</th>\n",
       "      <th>char_count</th>\n",
       "      <th>numerics</th>\n",
       "    </tr>\n",
       "  </thead>\n",
       "  <tbody>\n",
       "    <tr>\n",
       "      <th>0</th>\n",
       "      <td>amd going up but hesitating however chart is ...</td>\n",
       "      <td>3</td>\n",
       "      <td>AMD</td>\n",
       "      <td>2018-09-19</td>\n",
       "      <td>18:38:28+00:00</td>\n",
       "      <td>19</td>\n",
       "      <td>9</td>\n",
       "      <td>2018</td>\n",
       "      <td>2</td>\n",
       "      <td>13</td>\n",
       "      <td>74</td>\n",
       "      <td>0</td>\n",
       "    </tr>\n",
       "    <tr>\n",
       "      <th>1</th>\n",
       "      <td>despite china trade war  cat held very well  t...</td>\n",
       "      <td>3</td>\n",
       "      <td>CAT</td>\n",
       "      <td>2018-10-09</td>\n",
       "      <td>03:51:06+00:00</td>\n",
       "      <td>9</td>\n",
       "      <td>10</td>\n",
       "      <td>2018</td>\n",
       "      <td>1</td>\n",
       "      <td>11</td>\n",
       "      <td>69</td>\n",
       "      <td>0</td>\n",
       "    </tr>\n",
       "    <tr>\n",
       "      <th>2</th>\n",
       "      <td>avgo wtf</td>\n",
       "      <td>2</td>\n",
       "      <td>AVGO</td>\n",
       "      <td>2018-07-12</td>\n",
       "      <td>13:35:32+00:00</td>\n",
       "      <td>12</td>\n",
       "      <td>7</td>\n",
       "      <td>2018</td>\n",
       "      <td>3</td>\n",
       "      <td>2</td>\n",
       "      <td>10</td>\n",
       "      <td>0</td>\n",
       "    </tr>\n",
       "    <tr>\n",
       "      <th>3</th>\n",
       "      <td>ph new insider filing on  muller klaus peter ...</td>\n",
       "      <td>2</td>\n",
       "      <td>PH</td>\n",
       "      <td>2018-07-19</td>\n",
       "      <td>03:32:50+00:00</td>\n",
       "      <td>19</td>\n",
       "      <td>7</td>\n",
       "      <td>2018</td>\n",
       "      <td>3</td>\n",
       "      <td>16</td>\n",
       "      <td>69</td>\n",
       "      <td>0</td>\n",
       "    </tr>\n",
       "    <tr>\n",
       "      <th>4</th>\n",
       "      <td>fb if it bounces tommorrow do the right thing...</td>\n",
       "      <td>3</td>\n",
       "      <td>FB</td>\n",
       "      <td>2018-08-23</td>\n",
       "      <td>19:07:54+00:00</td>\n",
       "      <td>23</td>\n",
       "      <td>8</td>\n",
       "      <td>2018</td>\n",
       "      <td>3</td>\n",
       "      <td>11</td>\n",
       "      <td>55</td>\n",
       "      <td>0</td>\n",
       "    </tr>\n",
       "  </tbody>\n",
       "</table>\n",
       "</div>"
      ],
      "text/plain": [
       "                                               Tweet  Sentiment_score Stock  \\\n",
       "0   amd going up but hesitating however chart is ...                3   AMD   \n",
       "1  despite china trade war  cat held very well  t...                3   CAT   \n",
       "2                                          avgo wtf                 2  AVGO   \n",
       "3   ph new insider filing on  muller klaus peter ...                2    PH   \n",
       "4   fb if it bounces tommorrow do the right thing...                3    FB   \n",
       "\n",
       "         date            time  Date  Month  Year  Weekday  word_count  \\\n",
       "0  2018-09-19  18:38:28+00:00    19      9  2018        2          13   \n",
       "1  2018-10-09  03:51:06+00:00     9     10  2018        1          11   \n",
       "2  2018-07-12  13:35:32+00:00    12      7  2018        3           2   \n",
       "3  2018-07-19  03:32:50+00:00    19      7  2018        3          16   \n",
       "4  2018-08-23  19:07:54+00:00    23      8  2018        3          11   \n",
       "\n",
       "   char_count  numerics  \n",
       "0          74         0  \n",
       "1          69         0  \n",
       "2          10         0  \n",
       "3          69         0  \n",
       "4          55         0  "
      ]
     },
     "execution_count": 38,
     "metadata": {},
     "output_type": "execute_result"
    }
   ],
   "source": [
    "fin.head()"
   ]
  },
  {
   "cell_type": "code",
   "execution_count": 4,
   "metadata": {},
   "outputs": [
    {
     "data": {
      "text/plain": [
       "(1039131, 12)"
      ]
     },
     "execution_count": 4,
     "metadata": {},
     "output_type": "execute_result"
    }
   ],
   "source": [
    "fin.shape"
   ]
  },
  {
   "cell_type": "markdown",
   "metadata": {},
   "source": [
    "###### Validation Prediction"
   ]
  },
  {
   "cell_type": "code",
   "execution_count": 39,
   "metadata": {},
   "outputs": [],
   "source": [
    "x = fin['Tweet']\n",
    "y = fin['Sentiment_score']"
   ]
  },
  {
   "cell_type": "code",
   "execution_count": 40,
   "metadata": {},
   "outputs": [],
   "source": [
    "from sklearn.model_selection import train_test_split\n",
    "xTrain, xVal, yTrain, yVal = train_test_split(x, y, test_size = .3, random_state = 0)"
   ]
  },
  {
   "cell_type": "code",
   "execution_count": 41,
   "metadata": {},
   "outputs": [
    {
     "data": {
      "text/plain": [
       "((727391,), (311740,), (727391,), (311740,))"
      ]
     },
     "execution_count": 41,
     "metadata": {},
     "output_type": "execute_result"
    }
   ],
   "source": [
    "xTrain.shape, xVal.shape, yTrain.shape, yVal.shape "
   ]
  },
  {
   "cell_type": "code",
   "execution_count": 42,
   "metadata": {},
   "outputs": [],
   "source": [
    "from sklearn.feature_extraction.text import TfidfVectorizer\n",
    "tfidf = TfidfVectorizer()\n",
    "jf_vect_train = tfidf.fit_transform(xTrain)\n",
    "jf_vect_val = tfidf.transform(xVal)"
   ]
  },
  {
   "cell_type": "code",
   "execution_count": 43,
   "metadata": {},
   "outputs": [],
   "source": [
    "from scipy import sparse\n",
    "from scipy.sparse import csc_matrix,csr_matrix\n",
    "xTrain_vect_train = sparse.csr_matrix(jf_vect_train)\n",
    "xTrain_vect_val = sparse.csr_matrix(jf_vect_val)"
   ]
  },
  {
   "cell_type": "markdown",
   "metadata": {},
   "source": [
    "##### Logistic Regression"
   ]
  },
  {
   "cell_type": "code",
   "execution_count": 51,
   "metadata": {},
   "outputs": [],
   "source": [
    "from sklearn.metrics import f1_score, accuracy_score\n",
    "from sklearn.linear_model import LogisticRegression\n",
    "log_reg=LogisticRegression(solver='newton-cg')\n",
    "log_reg.fit(xTrain_vect_train,yTrain)\n",
    "test_pred=log_reg.predict(xTrain_vect_val)"
   ]
  },
  {
   "cell_type": "code",
   "execution_count": 52,
   "metadata": {},
   "outputs": [
    {
     "name": "stdout",
     "output_type": "stream",
     "text": [
      "0.6506736382883171\n"
     ]
    }
   ],
   "source": [
    "print(accuracy_score(yVal,test_pred))"
   ]
  },
  {
   "cell_type": "code",
   "execution_count": 54,
   "metadata": {},
   "outputs": [
    {
     "name": "stdout",
     "output_type": "stream",
     "text": [
      "0.5800019900625732\n"
     ]
    }
   ],
   "source": [
    "from sklearn.metrics import f1_score\n",
    "print(f1_score(yVal,test_pred, average='macro'))"
   ]
  },
  {
   "cell_type": "markdown",
   "metadata": {},
   "source": [
    "##### Random Forest"
   ]
  },
  {
   "cell_type": "code",
   "execution_count": 44,
   "metadata": {},
   "outputs": [],
   "source": [
    "from sklearn.ensemble import RandomForestClassifier\n",
    "rf = RandomForestClassifier()\n",
    "rf_fit = rf.fit(xTrain_vect_train, yTrain)\n"
   ]
  },
  {
   "cell_type": "code",
   "execution_count": 48,
   "metadata": {},
   "outputs": [
    {
     "name": "stdout",
     "output_type": "stream",
     "text": [
      "0.6382017065503304\n"
     ]
    }
   ],
   "source": [
    "from sklearn.metrics import accuracy_score\n",
    "print(accuracy_score(yVal,X_counr_csr_val_pred))"
   ]
  },
  {
   "cell_type": "code",
   "execution_count": 55,
   "metadata": {},
   "outputs": [
    {
     "name": "stdout",
     "output_type": "stream",
     "text": [
      "0.5706081622319079\n"
     ]
    }
   ],
   "source": [
    "from sklearn.metrics import f1_score\n",
    "print(f1_score(yVal,X_counr_csr_val_pred,average='macro'))"
   ]
  },
  {
   "cell_type": "markdown",
   "metadata": {},
   "source": [
    "Since logistic regression gave a better score, that was used to predict the score."
   ]
  },
  {
   "cell_type": "markdown",
   "metadata": {},
   "source": [
    "### Json Test data"
   ]
  },
  {
   "cell_type": "code",
   "execution_count": null,
   "metadata": {},
   "outputs": [],
   "source": [
    "jtest = pd.read_json(\"TestData/test_data.json\")"
   ]
  },
  {
   "cell_type": "code",
   "execution_count": null,
   "metadata": {},
   "outputs": [],
   "source": [
    "x=[]\n",
    "z=[]\n",
    "a=[]\n",
    "for i in jdata.records:\n",
    "    x.append(i['stocktwit_tweet'])\n",
    "    z.append(pd.to_datetime(i['timestamp']))\n",
    "    a.append(i['ticker'])"
   ]
  },
  {
   "cell_type": "code",
   "execution_count": null,
   "metadata": {},
   "outputs": [],
   "source": [
    "json_data = pd.DataFrame({'Tweet':x,\n",
    "                          'Date':z,\n",
    "                          'Stock':a})"
   ]
  },
  {
   "cell_type": "code",
   "execution_count": null,
   "metadata": {},
   "outputs": [],
   "source": [
    "json_data.to_csv('jtest.csv',index=\"False\")"
   ]
  },
  {
   "cell_type": "code",
   "execution_count": 5,
   "metadata": {},
   "outputs": [],
   "source": [
    "jf_test = pd.read_csv('jtest.csv')"
   ]
  },
  {
   "cell_type": "code",
   "execution_count": 6,
   "metadata": {},
   "outputs": [],
   "source": [
    "jf_test.drop(jf_test.columns[0], axis = 1,inplace=True) "
   ]
  },
  {
   "cell_type": "code",
   "execution_count": 7,
   "metadata": {},
   "outputs": [
    {
     "data": {
      "text/html": [
       "<div>\n",
       "<style scoped>\n",
       "    .dataframe tbody tr th:only-of-type {\n",
       "        vertical-align: middle;\n",
       "    }\n",
       "\n",
       "    .dataframe tbody tr th {\n",
       "        vertical-align: top;\n",
       "    }\n",
       "\n",
       "    .dataframe thead th {\n",
       "        text-align: right;\n",
       "    }\n",
       "</style>\n",
       "<table border=\"1\" class=\"dataframe\">\n",
       "  <thead>\n",
       "    <tr style=\"text-align: right;\">\n",
       "      <th></th>\n",
       "      <th>Tweet</th>\n",
       "      <th>Date</th>\n",
       "      <th>Stock</th>\n",
       "    </tr>\n",
       "  </thead>\n",
       "  <tbody>\n",
       "    <tr>\n",
       "      <th>0</th>\n",
       "      <td>$CELG nothing to be exited about</td>\n",
       "      <td>2018-10-25 14:26:16+00:00</td>\n",
       "      <td>$CELG</td>\n",
       "    </tr>\n",
       "    <tr>\n",
       "      <th>1</th>\n",
       "      <td>$AMD yall exhaust your buyer on first green ca...</td>\n",
       "      <td>2018-07-13 13:50:39+00:00</td>\n",
       "      <td>$AMD</td>\n",
       "    </tr>\n",
       "    <tr>\n",
       "      <th>2</th>\n",
       "      <td>$AMD day traders day.</td>\n",
       "      <td>2018-09-25 19:10:54+00:00</td>\n",
       "      <td>$AMD</td>\n",
       "    </tr>\n",
       "    <tr>\n",
       "      <th>3</th>\n",
       "      <td>$CBS https://tenor.com/wLB8.gif</td>\n",
       "      <td>2018-07-27 22:45:48+00:00</td>\n",
       "      <td>$CBS</td>\n",
       "    </tr>\n",
       "    <tr>\n",
       "      <th>4</th>\n",
       "      <td>$MU weak price action so far today. Don’t be a...</td>\n",
       "      <td>2018-07-31 14:59:06+00:00</td>\n",
       "      <td>$MU</td>\n",
       "    </tr>\n",
       "  </tbody>\n",
       "</table>\n",
       "</div>"
      ],
      "text/plain": [
       "                                               Tweet  \\\n",
       "0                   $CELG nothing to be exited about   \n",
       "1  $AMD yall exhaust your buyer on first green ca...   \n",
       "2                              $AMD day traders day.   \n",
       "3                    $CBS https://tenor.com/wLB8.gif   \n",
       "4  $MU weak price action so far today. Don’t be a...   \n",
       "\n",
       "                        Date  Stock  \n",
       "0  2018-10-25 14:26:16+00:00  $CELG  \n",
       "1  2018-07-13 13:50:39+00:00   $AMD  \n",
       "2  2018-09-25 19:10:54+00:00   $AMD  \n",
       "3  2018-07-27 22:45:48+00:00   $CBS  \n",
       "4  2018-07-31 14:59:06+00:00    $MU  "
      ]
     },
     "execution_count": 7,
     "metadata": {},
     "output_type": "execute_result"
    }
   ],
   "source": [
    "jf_test.head()"
   ]
  },
  {
   "cell_type": "code",
   "execution_count": 8,
   "metadata": {},
   "outputs": [],
   "source": [
    "#changing the date format\n",
    "date = jf_test['Date']\n",
    "a, b = zip(*(s.split(\" \") for s in date))\n",
    "jf_test['date'] = a\n",
    "jf_test['time'] = b\n",
    "jf_test.drop(['Date'],axis=1,inplace=True)"
   ]
  },
  {
   "cell_type": "code",
   "execution_count": 9,
   "metadata": {},
   "outputs": [],
   "source": [
    "jf_test['Date'] = pd.to_datetime(jf_test['date']).dt.day\n",
    "jf_test['Month'] = pd.to_datetime(jf_test['date']).dt.month\n",
    "jf_test['Year'] = pd.to_datetime(jf_test['date']).dt.year\n",
    "jf_test['Weekday'] = pd.to_datetime(jf_test['date']).dt.weekday"
   ]
  },
  {
   "cell_type": "markdown",
   "metadata": {},
   "source": [
    "#### Basic cleaning"
   ]
  },
  {
   "cell_type": "code",
   "execution_count": 10,
   "metadata": {},
   "outputs": [],
   "source": [
    "#parsing the html part\n",
    "parser = htmlparser.HTMLParser()\n",
    "jf_test['Tweet']= jf_test['Tweet'].apply(lambda x: parser.unescape(x))"
   ]
  },
  {
   "cell_type": "code",
   "execution_count": 12,
   "metadata": {},
   "outputs": [],
   "source": [
    "#delete the url from the tweet text\n",
    "jf_test['Tweet'] = jf_test['Tweet'].apply(lambda x: ' '.join(re.sub(r\"http\\S+\", \"\", x)))"
   ]
  },
  {
   "cell_type": "code",
   "execution_count": 13,
   "metadata": {},
   "outputs": [],
   "source": [
    "#remove \\n from the tweets\n",
    "jf_test['Tweet']=jf_test['Tweet'].str.replace(\"\\\\n\", \" \",regex=True)"
   ]
  },
  {
   "cell_type": "code",
   "execution_count": 14,
   "metadata": {},
   "outputs": [],
   "source": [
    "#make double $ as single $\n",
    "jf_test['Stock'] = jf_test['Stock'].str.replace('$$','$',regex=False)"
   ]
  },
  {
   "cell_type": "code",
   "execution_count": 15,
   "metadata": {},
   "outputs": [],
   "source": [
    "#removing $ from stock\n",
    "jf_test['Stock'] = jf_test['Stock'].str.replace('$','',regex=False)"
   ]
  },
  {
   "cell_type": "code",
   "execution_count": 16,
   "metadata": {},
   "outputs": [],
   "source": [
    "#uppercase the stock \n",
    "jf_test['Stock']=jf_test['Stock'].str.upper()"
   ]
  },
  {
   "cell_type": "code",
   "execution_count": 17,
   "metadata": {},
   "outputs": [],
   "source": [
    "#lowercase the Tweet\n",
    "jf_test['Tweet']=jf_test['Tweet'].str.lower()"
   ]
  },
  {
   "cell_type": "code",
   "execution_count": 18,
   "metadata": {},
   "outputs": [
    {
     "data": {
      "text/html": [
       "<div>\n",
       "<style scoped>\n",
       "    .dataframe tbody tr th:only-of-type {\n",
       "        vertical-align: middle;\n",
       "    }\n",
       "\n",
       "    .dataframe tbody tr th {\n",
       "        vertical-align: top;\n",
       "    }\n",
       "\n",
       "    .dataframe thead th {\n",
       "        text-align: right;\n",
       "    }\n",
       "</style>\n",
       "<table border=\"1\" class=\"dataframe\">\n",
       "  <thead>\n",
       "    <tr style=\"text-align: right;\">\n",
       "      <th></th>\n",
       "      <th>Tweet</th>\n",
       "      <th>Stock</th>\n",
       "      <th>date</th>\n",
       "      <th>time</th>\n",
       "      <th>Date</th>\n",
       "      <th>Month</th>\n",
       "      <th>Year</th>\n",
       "      <th>Weekday</th>\n",
       "    </tr>\n",
       "  </thead>\n",
       "  <tbody>\n",
       "    <tr>\n",
       "      <th>0</th>\n",
       "      <td>$celg nothing to be exited about</td>\n",
       "      <td>CELG</td>\n",
       "      <td>2018-10-25</td>\n",
       "      <td>14:26:16+00:00</td>\n",
       "      <td>25</td>\n",
       "      <td>10</td>\n",
       "      <td>2018</td>\n",
       "      <td>3</td>\n",
       "    </tr>\n",
       "    <tr>\n",
       "      <th>1</th>\n",
       "      <td>$amd yall exhaust your buyer on first green ca...</td>\n",
       "      <td>AMD</td>\n",
       "      <td>2018-07-13</td>\n",
       "      <td>13:50:39+00:00</td>\n",
       "      <td>13</td>\n",
       "      <td>7</td>\n",
       "      <td>2018</td>\n",
       "      <td>4</td>\n",
       "    </tr>\n",
       "    <tr>\n",
       "      <th>2</th>\n",
       "      <td>$amd day traders day.</td>\n",
       "      <td>AMD</td>\n",
       "      <td>2018-09-25</td>\n",
       "      <td>19:10:54+00:00</td>\n",
       "      <td>25</td>\n",
       "      <td>9</td>\n",
       "      <td>2018</td>\n",
       "      <td>1</td>\n",
       "    </tr>\n",
       "    <tr>\n",
       "      <th>3</th>\n",
       "      <td>$cbs</td>\n",
       "      <td>CBS</td>\n",
       "      <td>2018-07-27</td>\n",
       "      <td>22:45:48+00:00</td>\n",
       "      <td>27</td>\n",
       "      <td>7</td>\n",
       "      <td>2018</td>\n",
       "      <td>4</td>\n",
       "    </tr>\n",
       "    <tr>\n",
       "      <th>4</th>\n",
       "      <td>$mu weak price action so far today. don’t be a...</td>\n",
       "      <td>MU</td>\n",
       "      <td>2018-07-31</td>\n",
       "      <td>14:59:06+00:00</td>\n",
       "      <td>31</td>\n",
       "      <td>7</td>\n",
       "      <td>2018</td>\n",
       "      <td>1</td>\n",
       "    </tr>\n",
       "  </tbody>\n",
       "</table>\n",
       "</div>"
      ],
      "text/plain": [
       "                                               Tweet Stock        date  \\\n",
       "0                   $celg nothing to be exited about  CELG  2018-10-25   \n",
       "1  $amd yall exhaust your buyer on first green ca...   AMD  2018-07-13   \n",
       "2                              $amd day traders day.   AMD  2018-09-25   \n",
       "3                                              $cbs    CBS  2018-07-27   \n",
       "4  $mu weak price action so far today. don’t be a...    MU  2018-07-31   \n",
       "\n",
       "             time  Date  Month  Year  Weekday  \n",
       "0  14:26:16+00:00    25     10  2018        3  \n",
       "1  13:50:39+00:00    13      7  2018        4  \n",
       "2  19:10:54+00:00    25      9  2018        1  \n",
       "3  22:45:48+00:00    27      7  2018        4  \n",
       "4  14:59:06+00:00    31      7  2018        1  "
      ]
     },
     "execution_count": 18,
     "metadata": {},
     "output_type": "execute_result"
    }
   ],
   "source": [
    "jf_test.head()#displaying after converting to lowercase"
   ]
  },
  {
   "cell_type": "markdown",
   "metadata": {},
   "source": [
    "#### Basic Preprocessing"
   ]
  },
  {
   "cell_type": "code",
   "execution_count": 19,
   "metadata": {},
   "outputs": [
    {
     "data": {
      "text/plain": [
       "0                     $celg nothing to be exited about\n",
       "1    $amd yall exhaust your buyer on first green ca...\n",
       "2                                $amd day traders day.\n",
       "3                                                 $cbs\n",
       "4    $mu weak price action so far today. don’t be a...\n",
       "Name: Tweet, dtype: object"
      ]
     },
     "execution_count": 19,
     "metadata": {},
     "output_type": "execute_result"
    }
   ],
   "source": [
    "#remove user names\n",
    "jf_test['Tweet'] = jf_test['Tweet'].apply(lambda x: ' '.join(re.sub(\"(@[A-Za-z0-9]+)\", \" \", x).split()))\n",
    "jf_test['Tweet'].head()"
   ]
  },
  {
   "cell_type": "code",
   "execution_count": 20,
   "metadata": {},
   "outputs": [
    {
     "data": {
      "text/plain": [
       "0                     $celg nothing to be exited about\n",
       "1    $amd yall exhaust your buyer on first green ca...\n",
       "2                                $amd day traders day.\n",
       "3                                                 $cbs\n",
       "4    $mu weak price action so far today. don’t be a...\n",
       "Name: Tweet, dtype: object"
      ]
     },
     "execution_count": 20,
     "metadata": {},
     "output_type": "execute_result"
    }
   ],
   "source": [
    "#remove numerics\n",
    "jf_test['Tweet'] = jf_test['Tweet'].apply(lambda x: \" \".join(re.sub(\"[0-9]\", \" \", x).split()))\n",
    "jf_test['Tweet'].head()"
   ]
  },
  {
   "cell_type": "code",
   "execution_count": 21,
   "metadata": {},
   "outputs": [
    {
     "data": {
      "text/plain": [
       "0                     $celg nothing to be exited about\n",
       "1    $amd yall exhaust your buyer on first green ca...\n",
       "2                                $amd day traders day.\n",
       "3                                                 $cbs\n",
       "4    $mu weak price action so far today. don’t be a...\n",
       "Name: Tweet, dtype: object"
      ]
     },
     "execution_count": 21,
     "metadata": {},
     "output_type": "execute_result"
    }
   ],
   "source": [
    "#translating emoji into text\n",
    "jf_test['Tweet']=jf_test['Tweet'].apply(lambda x: emoji.demojize(x))\n",
    "# the emoji gets converted into word and stored like :thumbs_up:\n",
    "jf_test['Tweet']=jf_test['Tweet'].str.replace(\":\", \" \",regex=False) # so we remove the : sign\n",
    "jf_test['Tweet']=jf_test['Tweet'].str.replace(\"_\", \" \",regex=False) #and the _ sign\n",
    "jf_test['Tweet'].head()"
   ]
  },
  {
   "cell_type": "code",
   "execution_count": 22,
   "metadata": {},
   "outputs": [
    {
     "data": {
      "text/plain": [
       "0                      celg nothing to be exited about\n",
       "1     amd yall exhaust your buyer on first green ca...\n",
       "2                                 amd day traders day \n",
       "3                                                  cbs\n",
       "4     mu weak price action so far today  don t be a...\n",
       "Name: Tweet, dtype: object"
      ]
     },
     "execution_count": 22,
     "metadata": {},
     "output_type": "execute_result"
    }
   ],
   "source": [
    "#removing punctuations\n",
    "jf_test['Tweet'] = jf_test['Tweet'].str.replace(\"[^a-zA-Z]\", \" \")\n",
    "jf_test['Tweet'].head()"
   ]
  },
  {
   "cell_type": "code",
   "execution_count": 23,
   "metadata": {},
   "outputs": [],
   "source": [
    "#remove duplicate letters from words\n",
    "jf_test['Tweet'] = jf_test['Tweet'].apply(lambda x : re.sub(r'(.)\\1{1,}', r'\\1\\1', x))"
   ]
  },
  {
   "cell_type": "code",
   "execution_count": 24,
   "metadata": {},
   "outputs": [
    {
     "data": {
      "text/plain": [
       "0                                  celg nothing exited\n",
       "1       amd yall exhaust buyer first green candle byee\n",
       "2                                  amd day traders day\n",
       "3                                                  cbs\n",
       "4    mu weak price action far today afraid go short...\n",
       "Name: Tweet, dtype: object"
      ]
     },
     "execution_count": 24,
     "metadata": {},
     "output_type": "execute_result"
    }
   ],
   "source": [
    "#remove stop words\n",
    "stop = stopwords.words('english')\n",
    "jf_test['Tweet'] = jf_test['Tweet'].apply(lambda x: \" \".join(x for x in x.split() if x not in stop))\n",
    "jf_test['Tweet'].head()"
   ]
  },
  {
   "cell_type": "code",
   "execution_count": 25,
   "metadata": {},
   "outputs": [],
   "source": [
    "#stemming the data\n",
    "from nltk.stem import PorterStemmer\n",
    "st = PorterStemmer()\n",
    "jf_test['Tweet'] = jf_test['Tweet'].apply(lambda x: \" \".join([st.stem(word) for word in x.split()]))"
   ]
  },
  {
   "cell_type": "code",
   "execution_count": 26,
   "metadata": {},
   "outputs": [
    {
     "data": {
      "text/plain": [
       "177"
      ]
     },
     "execution_count": 26,
     "metadata": {},
     "output_type": "execute_result"
    }
   ],
   "source": [
    "(jf_test['Tweet'].values == '').sum() "
   ]
  },
  {
   "cell_type": "code",
   "execution_count": 27,
   "metadata": {},
   "outputs": [],
   "source": [
    "jf_test =jf_test[jf_test['Tweet']!='']"
   ]
  },
  {
   "cell_type": "code",
   "execution_count": 28,
   "metadata": {},
   "outputs": [],
   "source": [
    "jf_test.to_csv(\"Cleaned_Json_TestData.csv\",index=False)"
   ]
  },
  {
   "cell_type": "markdown",
   "metadata": {},
   "source": [
    "### Final Predictions"
   ]
  },
  {
   "cell_type": "code",
   "execution_count": 52,
   "metadata": {},
   "outputs": [],
   "source": [
    "x_train = jf[\"Tweet\"]\n",
    "y_train = jf['Sentiment_score']\n",
    "x_test  = jf_test[\"Tweet\"]"
   ]
  },
  {
   "cell_type": "code",
   "execution_count": 53,
   "metadata": {},
   "outputs": [],
   "source": [
    "from sklearn.feature_extraction.text import TfidfVectorizer\n",
    "tfidf = TfidfVectorizer()\n",
    "jf_vect_train = tfidf.fit_transform(x_train)\n",
    "jf_vect_test = tfidf.transform(x_test)"
   ]
  },
  {
   "cell_type": "code",
   "execution_count": 54,
   "metadata": {},
   "outputs": [],
   "source": [
    "from scipy import sparse\n",
    "from scipy.sparse import csc_matrix,csr_matrix\n",
    "xTrain_vect_train = sparse.csr_matrix(jf_vect_train)\n",
    "xTrain_vect_test = sparse.csr_matrix(jf_vect_test)"
   ]
  },
  {
   "cell_type": "code",
   "execution_count": 55,
   "metadata": {},
   "outputs": [],
   "source": [
    "from sklearn.metrics import f1_score, accuracy_score\n",
    "from sklearn.linear_model import LogisticRegression\n",
    "log_reg=LogisticRegression(solver='newton-cg')\n",
    "log_reg.fit(xTrain_vect_train,y_train)\n",
    "test_pred=log_reg.predict(xTrain_vect_test)"
   ]
  },
  {
   "cell_type": "code",
   "execution_count": 56,
   "metadata": {},
   "outputs": [],
   "source": [
    "score_log = pd.DataFrame({\"Sentiment_score\":test_pred}) "
   ]
  },
  {
   "cell_type": "code",
   "execution_count": 57,
   "metadata": {},
   "outputs": [
    {
     "data": {
      "text/plain": [
       "(264845, 1)"
      ]
     },
     "execution_count": 57,
     "metadata": {},
     "output_type": "execute_result"
    }
   ],
   "source": [
    "score_log.shape"
   ]
  },
  {
   "cell_type": "code",
   "execution_count": null,
   "metadata": {},
   "outputs": [],
   "source": [
    "final_log = pd.concat([jf_test, score_log],axis=1) "
   ]
  },
  {
   "cell_type": "code",
   "execution_count": null,
   "metadata": {},
   "outputs": [],
   "source": [
    "final_log.head()"
   ]
  },
  {
   "cell_type": "code",
   "execution_count": null,
   "metadata": {},
   "outputs": [],
   "source": [
    "final_log.to_csv('Cleaned_Json_TestData_WithLogScore.csv',index=False)"
   ]
  }
 ],
 "metadata": {
  "kernelspec": {
   "display_name": "Python 3",
   "language": "python",
   "name": "python3"
  },
  "language_info": {
   "codemirror_mode": {
    "name": "ipython",
    "version": 3
   },
   "file_extension": ".py",
   "mimetype": "text/x-python",
   "name": "python",
   "nbconvert_exporter": "python",
   "pygments_lexer": "ipython3",
   "version": "3.7.3"
  }
 },
 "nbformat": 4,
 "nbformat_minor": 2
}
